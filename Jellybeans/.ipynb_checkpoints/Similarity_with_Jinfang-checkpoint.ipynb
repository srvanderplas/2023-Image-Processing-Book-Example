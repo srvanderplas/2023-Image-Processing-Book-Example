{
 "cells": [
  {
   "cell_type": "code",
   "execution_count": 46,
   "id": "90d2ab17",
   "metadata": {},
   "outputs": [],
   "source": [
    "import pandas as pd"
   ]
  },
  {
   "cell_type": "code",
   "execution_count": 47,
   "id": "ac463cf5",
   "metadata": {},
   "outputs": [],
   "source": [
    "names = [\"UHGG\", \"Marine\", \"Rumen\", \"Oral\"]"
   ]
  },
  {
   "cell_type": "code",
   "execution_count": 48,
   "id": "d91f8a07",
   "metadata": {},
   "outputs": [],
   "source": [
    "similar_wo = [0.6884, 0.7562, 0.7496, 0.7796]"
   ]
  },
  {
   "cell_type": "code",
   "execution_count": 49,
   "id": "1c58c822",
   "metadata": {},
   "outputs": [],
   "source": [
    "similari_w = [0.7284, 0.7757, 0.7925, 0.8475]"
   ]
  },
  {
   "cell_type": "code",
   "execution_count": 50,
   "id": "63d24712",
   "metadata": {},
   "outputs": [],
   "source": [
    "df = pd.DataFrame({\"Host\": names, \"Similarity_without_filtering\": similar_wo, \"Similarity_with_Filtering\": similari_w})"
   ]
  },
  {
   "cell_type": "code",
   "execution_count": 51,
   "id": "960c220f",
   "metadata": {},
   "outputs": [],
   "source": [
    "df_melt = df.melt(id_vars=\"Host\")"
   ]
  },
  {
   "cell_type": "code",
   "execution_count": 52,
   "id": "e7fd7931",
   "metadata": {},
   "outputs": [
    {
     "data": {
      "text/html": [
       "<div>\n",
       "<style scoped>\n",
       "    .dataframe tbody tr th:only-of-type {\n",
       "        vertical-align: middle;\n",
       "    }\n",
       "\n",
       "    .dataframe tbody tr th {\n",
       "        vertical-align: top;\n",
       "    }\n",
       "\n",
       "    .dataframe thead th {\n",
       "        text-align: right;\n",
       "    }\n",
       "</style>\n",
       "<table border=\"1\" class=\"dataframe\">\n",
       "  <thead>\n",
       "    <tr style=\"text-align: right;\">\n",
       "      <th></th>\n",
       "      <th>Host</th>\n",
       "      <th>variable</th>\n",
       "      <th>value</th>\n",
       "    </tr>\n",
       "  </thead>\n",
       "  <tbody>\n",
       "    <tr>\n",
       "      <th>0</th>\n",
       "      <td>UHGG</td>\n",
       "      <td>Similarity_without_filtering</td>\n",
       "      <td>0.6884</td>\n",
       "    </tr>\n",
       "    <tr>\n",
       "      <th>1</th>\n",
       "      <td>Marine</td>\n",
       "      <td>Similarity_without_filtering</td>\n",
       "      <td>0.7562</td>\n",
       "    </tr>\n",
       "    <tr>\n",
       "      <th>2</th>\n",
       "      <td>Rumen</td>\n",
       "      <td>Similarity_without_filtering</td>\n",
       "      <td>0.7496</td>\n",
       "    </tr>\n",
       "    <tr>\n",
       "      <th>3</th>\n",
       "      <td>Oral</td>\n",
       "      <td>Similarity_without_filtering</td>\n",
       "      <td>0.7796</td>\n",
       "    </tr>\n",
       "    <tr>\n",
       "      <th>4</th>\n",
       "      <td>UHGG</td>\n",
       "      <td>Similarity_with_Filtering</td>\n",
       "      <td>0.7284</td>\n",
       "    </tr>\n",
       "    <tr>\n",
       "      <th>5</th>\n",
       "      <td>Marine</td>\n",
       "      <td>Similarity_with_Filtering</td>\n",
       "      <td>0.7757</td>\n",
       "    </tr>\n",
       "    <tr>\n",
       "      <th>6</th>\n",
       "      <td>Rumen</td>\n",
       "      <td>Similarity_with_Filtering</td>\n",
       "      <td>0.7925</td>\n",
       "    </tr>\n",
       "    <tr>\n",
       "      <th>7</th>\n",
       "      <td>Oral</td>\n",
       "      <td>Similarity_with_Filtering</td>\n",
       "      <td>0.8475</td>\n",
       "    </tr>\n",
       "  </tbody>\n",
       "</table>\n",
       "</div>"
      ],
      "text/plain": [
       "     Host                      variable   value\n",
       "0    UHGG  Similarity_without_filtering  0.6884\n",
       "1  Marine  Similarity_without_filtering  0.7562\n",
       "2   Rumen  Similarity_without_filtering  0.7496\n",
       "3    Oral  Similarity_without_filtering  0.7796\n",
       "4    UHGG     Similarity_with_Filtering  0.7284\n",
       "5  Marine     Similarity_with_Filtering  0.7757\n",
       "6   Rumen     Similarity_with_Filtering  0.7925\n",
       "7    Oral     Similarity_with_Filtering  0.8475"
      ]
     },
     "execution_count": 52,
     "metadata": {},
     "output_type": "execute_result"
    }
   ],
   "source": [
    "df_melt"
   ]
  },
  {
   "cell_type": "code",
   "execution_count": 53,
   "id": "444f64b3",
   "metadata": {},
   "outputs": [],
   "source": [
    "df_melt.columns = [\"Host\", \"Filtering_Type\", \"Percentage_Similarity\"]"
   ]
  },
  {
   "cell_type": "code",
   "execution_count": 54,
   "id": "94e0a888",
   "metadata": {},
   "outputs": [],
   "source": [
    "import seaborn as sns"
   ]
  },
  {
   "cell_type": "code",
   "execution_count": 55,
   "id": "47daa638",
   "metadata": {},
   "outputs": [],
   "source": [
    "import matplotlib.pyplot as plt"
   ]
  },
  {
   "cell_type": "code",
   "execution_count": 56,
   "id": "2dd195e1",
   "metadata": {},
   "outputs": [
    {
     "data": {
      "image/png": "[encoded data removed]",
      "text/plain": [
       "<Figure size 1080x720 with 1 Axes>"
      ]
     },
     "metadata": {
      "needs_background": "light"
     },
     "output_type": "display_data"
    }
   ],
   "source": [
    "plt.rcParams[\"font.weight\"] = \"bold\"\n",
    "plt.figure(figsize = (15,10))\n",
    "sns.barplot(data=df_melt, x=\"Host\", y=\"Percentage_Similarity\", hue=\"Filtering_Type\")\n",
    "plt.xticks(fontsize=14)\n",
    "plt.yticks(fontsize=14)\n",
    "plt.xlabel(\"Host\", weight = \"bold\", fontsize = 20)\n",
    "plt.ylabel(\"Percentage Similarity\", weight = \"bold\", fontsize = 20)\n",
    "plt.legend(prop={'size': 15})\n",
    "plt.show()"
   ]
  }
 ],
 "metadata": {
  "kernelspec": {
   "display_name": "newone1",
   "language": "python",
   "name": "newone1"
  },
  "language_info": {
   "codemirror_mode": {
    "name": "ipython",
    "version": 3
   },
   "file_extension": ".py",
   "mimetype": "text/x-python",
   "name": "python",
   "nbconvert_exporter": "python",
   "pygments_lexer": "ipython3",
   "version": "3.9.12"
  }
 },
 "nbformat": 4,
 "nbformat_minor": 5
}

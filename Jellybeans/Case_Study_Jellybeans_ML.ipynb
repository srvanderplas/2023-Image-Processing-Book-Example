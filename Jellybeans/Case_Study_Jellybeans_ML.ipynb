{
 "cells": [
  {
   "cell_type": "code",
   "execution_count": null,
   "id": "629b2ac9",
   "metadata": {},
   "outputs": [],
   "source": [
    "import matplotlib.pyplot as plt\n",
    "import os\n",
    "import random\n",
    "import cv2\n",
    "from scipy import ndimage\n",
    "import pandas as pd\n",
    "import numpy as np\n",
    "from tqdm.notebook import tqdm\n",
    "import seaborn as sns\n",
    "\n",
    "datadir = \"jellybean-data\"\n",
    "if not os.path.exists(datadir):\n",
    "    import sys\n",
    "    !{sys.executable} -m pip install gitpython\n",
    "    from git import Repo\n",
    "    Repo.clone_from(r\"git@github.com:srvanderplas/jellybean_data.git\", r\"jellybean-data\")"
   ]
  },
  {
   "cell_type": "code",
   "execution_count": null,
   "id": "22e04e48",
   "metadata": {},
   "outputs": [],
   "source": [
    "## list the images in here\n",
    "images = os.listdir(datadir)"
   ]
  },
  {
   "cell_type": "code",
   "execution_count": null,
   "id": "10388039",
   "metadata": {},
   "outputs": [],
   "source": [
    "# take a random flavor\n",
    "sample_path = os.path.join(datadir, random.sample(images,1)[0])\n",
    "sample_path"
   ]
  },
  {
   "cell_type": "code",
   "execution_count": null,
   "id": "7e7432cd",
   "metadata": {},
   "outputs": [],
   "source": [
    "## list all images in the folder\n",
    "samp_images = os.listdir(sample_path)"
   ]
  },
  {
   "cell_type": "code",
   "execution_count": null,
   "id": "ee727017",
   "metadata": {},
   "outputs": [],
   "source": [
    "# sample a random image\n",
    "flavor = random.sample(samp_images,1)[0]\n",
    "sample_path = os.path.join(sample_path, flavor)\n",
    "sample_path"
   ]
  },
  {
   "cell_type": "code",
   "execution_count": null,
   "id": "300ab9ff",
   "metadata": {},
   "outputs": [],
   "source": [
    "sample_path\n",
    "sample_image = plt.imread(sample_path)"
   ]
  },
  {
   "cell_type": "code",
   "execution_count": null,
   "id": "0e03e8cb",
   "metadata": {},
   "outputs": [],
   "source": [
    "plt.imshow(sample_image)"
   ]
  },
  {
   "cell_type": "code",
   "execution_count": null,
   "id": "d90425a9",
   "metadata": {},
   "outputs": [],
   "source": [
    "sample_image.shape"
   ]
  },
  {
   "cell_type": "code",
   "execution_count": null,
   "id": "6b2e7b8a",
   "metadata": {},
   "outputs": [],
   "source": [
    "from skimage.color import rgb2gray"
   ]
  },
  {
   "cell_type": "code",
   "execution_count": null,
   "id": "b63cd7ec",
   "metadata": {},
   "outputs": [],
   "source": [
    "gray_mask = rgb2gray(sample_image)"
   ]
  },
  {
   "cell_type": "code",
   "execution_count": null,
   "id": "3553176e",
   "metadata": {},
   "outputs": [],
   "source": [
    "plt.imshow(gray_mask, \"gray\")\n",
    "plt.show()"
   ]
  },
  {
   "cell_type": "code",
   "execution_count": null,
   "id": "2e1e4c89",
   "metadata": {},
   "outputs": [],
   "source": [
    "gray_mask = cv2.convertScaleAbs(gray_mask*255)"
   ]
  },
  {
   "cell_type": "code",
   "execution_count": null,
   "id": "49698083",
   "metadata": {},
   "outputs": [],
   "source": [
    "from skimage import exposure\n",
    "\n",
    "img_eq = exposure.equalize_hist(gray_mask)"
   ]
  },
  {
   "cell_type": "code",
   "execution_count": null,
   "id": "4661ba2d",
   "metadata": {},
   "outputs": [],
   "source": [
    "plt.imshow(img_eq, \"gray\")\n",
    "plt.show()"
   ]
  },
  {
   "cell_type": "code",
   "execution_count": null,
   "id": "9578231b",
   "metadata": {},
   "outputs": [],
   "source": [
    "from skimage.filters import threshold_otsu"
   ]
  },
  {
   "cell_type": "code",
   "execution_count": null,
   "id": "caea6614",
   "metadata": {},
   "outputs": [],
   "source": [
    "# get the otsu thresholding\n",
    "img_threshold = threshold_otsu(img_eq)"
   ]
  },
  {
   "cell_type": "code",
   "execution_count": null,
   "id": "c2a24cce",
   "metadata": {},
   "outputs": [],
   "source": [
    "# threshold the image\n",
    "binary = img_eq > img_threshold"
   ]
  },
  {
   "cell_type": "code",
   "execution_count": null,
   "id": "d0563651",
   "metadata": {},
   "outputs": [],
   "source": [
    "plt.imshow(binary, \"gray\")\n",
    "plt.show()"
   ]
  },
  {
   "cell_type": "code",
   "execution_count": null,
   "id": "dda635e9",
   "metadata": {},
   "outputs": [],
   "source": [
    "binary = 1- binary"
   ]
  },
  {
   "cell_type": "code",
   "execution_count": null,
   "id": "5fec1f18",
   "metadata": {},
   "outputs": [],
   "source": [
    "plt.imshow(binary, \"gray\")\n",
    "plt.show()"
   ]
  },
  {
   "cell_type": "code",
   "execution_count": null,
   "id": "81679993",
   "metadata": {},
   "outputs": [],
   "source": [
    "binary = cv2.convertScaleAbs(binary*255.0)"
   ]
  },
  {
   "cell_type": "code",
   "execution_count": null,
   "id": "e828b12a",
   "metadata": {},
   "outputs": [],
   "source": [
    "plt.imshow(binary, \"gray\")"
   ]
  },
  {
   "cell_type": "code",
   "execution_count": null,
   "id": "f4cb735d",
   "metadata": {},
   "outputs": [],
   "source": [
    "fill_holes = ndimage.binary_fill_holes(binary)"
   ]
  },
  {
   "cell_type": "code",
   "execution_count": null,
   "id": "316e8282",
   "metadata": {},
   "outputs": [],
   "source": [
    "plt.imshow(fill_holes, \"gray\")"
   ]
  },
  {
   "cell_type": "code",
   "execution_count": null,
   "id": "0853e194",
   "metadata": {},
   "outputs": [],
   "source": [
    "fill_holes = cv2.convertScaleAbs(fill_holes*255.0)"
   ]
  },
  {
   "cell_type": "code",
   "execution_count": null,
   "id": "663ce3f4",
   "metadata": {},
   "outputs": [],
   "source": [
    "plt.imshow(fill_holes, \"gray\")"
   ]
  },
  {
   "cell_type": "code",
   "execution_count": null,
   "id": "e73c6e1a",
   "metadata": {},
   "outputs": [],
   "source": [
    "ret, markers = cv2.connectedComponents(fill_holes)"
   ]
  },
  {
   "cell_type": "code",
   "execution_count": null,
   "id": "58ca4e97",
   "metadata": {},
   "outputs": [],
   "source": [
    "## detect contours\n",
    "## and remove the biggest one\n",
    "contours,hierarchy =  cv2.findContours(fill_holes,cv2.RETR_TREE, cv2.CHAIN_APPROX_SIMPLE)"
   ]
  },
  {
   "cell_type": "code",
   "execution_count": null,
   "id": "6cd9d2ef",
   "metadata": {},
   "outputs": [],
   "source": [
    "largest_contours = sorted(contours, key=cv2.contourArea)[-20:-1]"
   ]
  },
  {
   "cell_type": "code",
   "execution_count": null,
   "id": "df7e7e41",
   "metadata": {},
   "outputs": [],
   "source": [
    "len(largest_contours)"
   ]
  },
  {
   "cell_type": "code",
   "execution_count": null,
   "id": "b4edebe5",
   "metadata": {},
   "outputs": [],
   "source": [
    "# temp1 = np.zeros((fill_holes.shape[0], fill_holes.shape[1]))"
   ]
  },
  {
   "cell_type": "code",
   "execution_count": null,
   "id": "6f3f8096",
   "metadata": {},
   "outputs": [],
   "source": [
    "# cv2.drawContours(temp1, largest_contours, -1, (255,255,255), -1)"
   ]
  },
  {
   "cell_type": "code",
   "execution_count": null,
   "id": "e2d3189c",
   "metadata": {},
   "outputs": [],
   "source": [
    "# plt.imshow(temp1, \"gray\")\n"
   ]
  },
  {
   "cell_type": "code",
   "execution_count": null,
   "id": "206af5de",
   "metadata": {},
   "outputs": [],
   "source": [
    "# img = mask_sample_bounded.reshape(mask_sample_bounded.shape[0]*mask_sample_bounded.shape[1],3)"
   ]
  },
  {
   "cell_type": "code",
   "execution_count": null,
   "id": "2016ebca",
   "metadata": {},
   "outputs": [],
   "source": [
    "temp1 = np.zeros((fill_holes.shape[0], fill_holes.shape[1]))\n",
    "catch_img = []\n",
    "for cnt in tqdm(largest_contours): \n",
    "    area = cv2.contourArea(cnt)\n",
    "#     temp = markers == cnt\n",
    "#     temp = cv2.convertScaleAbs(temp*255.0)\n",
    "    if (area > 10**5) & (area < 10**6):\n",
    "        print(area)\n",
    "        x,y,w,h = cv2.boundingRect(cnt)\n",
    "        mask_sample_bounded = sample_image[y:y+h,x:x+w, :]\n",
    "        plt.imshow(mask_sample_bounded)\n",
    "        plt.show()\n",
    "        cv2.drawContours(temp1, [cnt], -1, (255,255,255), -1)\n",
    "        img = mask_sample_bounded.reshape(mask_sample_bounded.shape[0]*mask_sample_bounded.shape[1],3)\n",
    "        mean_rgb = img.mean(0)\n",
    "        std_rgb = img.std(0)\n",
    "        mean_by_std = mean_rgb/std_rgb\n",
    "        all_catch = [mean_rgb, std_rgb, mean_by_std]\n",
    "        all_catch = [it for item in all_catch for it in item]\n",
    "        catch_img.append(all_catch)\n",
    "catch_img_df = pd.DataFrame(catch_img)\n",
    "catch_img_df.columns = [\"r_mean\", \"g_mean\", \"b_mean\", \"r_std\", \"g_std\", \"b_std\", \"r_mean_by_std\", \n",
    "                       \"g_mean_by_std\", \"b_mean_by_std\"]\n",
    "catch_img_df[\"flavor\"] = flavor"
   ]
  },
  {
   "cell_type": "code",
   "execution_count": null,
   "id": "5d1eb777",
   "metadata": {},
   "outputs": [],
   "source": [
    "plt.imshow(temp1, \"gray\")\n",
    "plt.show()"
   ]
  },
  {
   "cell_type": "code",
   "execution_count": null,
   "id": "d2d87559",
   "metadata": {},
   "outputs": [],
   "source": [
    "def get_features_image(sample_path): \n",
    "    flavor = sample_path.split(\"/\")[-2]\n",
    "    sample_image = plt.imread(sample_path)\n",
    "    gray_mask = rgb2gray(sample_image)\n",
    "    gray_mask = cv2.convertScaleAbs(gray_mask*255)\n",
    "    img_eq = exposure.equalize_hist(gray_mask)\n",
    "    # get the otsu thresholding\n",
    "    img_threshold = threshold_otsu(img_eq)\n",
    "    # threshold the image\n",
    "    binary = img_eq > img_threshold\n",
    "    binary = 1- binary\n",
    "    binary = cv2.convertScaleAbs(binary*255.0)\n",
    "    fill_holes = ndimage.binary_fill_holes(binary)\n",
    "    fill_holes = cv2.convertScaleAbs(fill_holes*255.0)\n",
    "    ## detect contours\n",
    "    ## and remove the biggest one\n",
    "    contours,hierarchy =  cv2.findContours(fill_holes,cv2.RETR_TREE, cv2.CHAIN_APPROX_SIMPLE)\n",
    "\n",
    "    largest_contours = sorted(contours, key=cv2.contourArea)[-20:-1]\n",
    "    \n",
    "    if len(largest_contours) != 19:\n",
    "        return []\n",
    "#     img = sample_image.reshape(sample_image.shape[0]*sample_image.shape[1],3)\n",
    "\n",
    "    temp1 = np.zeros((fill_holes.shape[0], fill_holes.shape[1]))\n",
    "    catch_img = []\n",
    "    for cnt in largest_contours: \n",
    "        area = cv2.contourArea(cnt)\n",
    "#     temp = markers == cnt\n",
    "#     temp = cv2.convertScaleAbs(temp*255.0)\n",
    "        if (area > 10**5) & (area < 10**6):\n",
    "#             print(area)\n",
    "            x,y,w,h = cv2.boundingRect(cnt)\n",
    "            mask_sample_bounded = sample_image[y:y+h,x:x+w, :]\n",
    "#             plt.imshow(mask_sample_bounded)\n",
    "#             plt.show()\n",
    "            cv2.drawContours(temp1, [cnt], -1, (255,255,255), -1)\n",
    "            img = mask_sample_bounded.reshape(mask_sample_bounded.shape[0]*mask_sample_bounded.shape[1],3)\n",
    "            mean_rgb = img.mean(0)\n",
    "            std_rgb = img.std(0)\n",
    "            mean_by_std = mean_rgb/std_rgb\n",
    "            all_catch = [mean_rgb, std_rgb, mean_by_std]\n",
    "            all_catch = [it for item in all_catch for it in item]\n",
    "            catch_img.append(all_catch)\n",
    "            \n",
    "    catch_img_df = pd.DataFrame(catch_img)\n",
    "#     if len(catch_img) !=\n",
    "    catch_img_df.columns = [\"r_mean\", \"g_mean\", \"b_mean\", \"r_std\", \"g_std\", \"b_std\", \"r_mean_by_std\", \n",
    "                       \"g_mean_by_std\", \"b_mean_by_std\"]\n",
    "    catch_img_df[\"flavor\"] = flavor\n",
    "\n",
    "    return catch_img_df"
   ]
  },
  {
   "cell_type": "code",
   "execution_count": null,
   "id": "a52c039b",
   "metadata": {},
   "outputs": [],
   "source": [
    "catch_img_df = get_features_image(sample_path)"
   ]
  },
  {
   "cell_type": "code",
   "execution_count": null,
   "id": "72406e39",
   "metadata": {},
   "outputs": [],
   "source": [
    "catch_img_df.head()"
   ]
  },
  {
   "cell_type": "code",
   "execution_count": null,
   "id": "71e039df",
   "metadata": {},
   "outputs": [],
   "source": [
    "out_path =  \"./\""
   ]
  },
  {
   "cell_type": "code",
   "execution_count": null,
   "id": "b744c799",
   "metadata": {},
   "outputs": [],
   "source": [
    "# out_path"
   ]
  },
  {
   "cell_type": "code",
   "execution_count": null,
   "id": "dd0c250c",
   "metadata": {},
   "outputs": [],
   "source": [
    "flavors = os.listdir(datadir)\n",
    "flavors.remove(\".git\")\n",
    "flavors.remove(\"LICENSE\")\n",
    "flavors"
   ]
  },
  {
   "cell_type": "code",
   "execution_count": null,
   "id": "bac0e2be",
   "metadata": {},
   "outputs": [],
   "source": [
    "import random"
   ]
  },
  {
   "cell_type": "code",
   "execution_count": null,
   "id": "ab27cfac",
   "metadata": {},
   "outputs": [],
   "source": [
    "# flavors = random.sample(flavors, 20)"
   ]
  },
  {
   "cell_type": "code",
   "execution_count": null,
   "id": "29b03f4b",
   "metadata": {},
   "outputs": [],
   "source": [
    "sample_paths = []\n",
    "\n",
    "for flv in flavors:\n",
    "    sample_path1 = os.path.join(datadir, flv)\n",
    "    # print(sample_path1)\n",
    "    samp_images = os.listdir(sample_path1)\n",
    "    for imgs in samp_images:\n",
    "        sample_path = os.path.join(sample_path1, imgs)\n",
    "        sample_paths.append(sample_path)"
   ]
  },
  {
   "cell_type": "code",
   "execution_count": null,
   "id": "5f204ca1",
   "metadata": {},
   "outputs": [],
   "source": [
    "len(sample_paths)"
   ]
  },
  {
   "cell_type": "code",
   "execution_count": null,
   "id": "f4f4a269",
   "metadata": {},
   "outputs": [],
   "source": [
    "from joblib import Parallel, delayed"
   ]
  },
  {
   "cell_type": "code",
   "execution_count": null,
   "id": "9fe28d15",
   "metadata": {},
   "outputs": [],
   "source": [
    "catch_all_dfs = Parallel(n_jobs=7, verbose = 6, \n",
    "                        backend = \"loky\")(delayed(get_features_image)(i) for i in sample_paths)"
   ]
  },
  {
   "cell_type": "code",
   "execution_count": null,
   "id": "0e54140e",
   "metadata": {},
   "outputs": [],
   "source": [
    "# catch_all_dfs = []\n",
    "\n",
    "# for sample_path in tqdm(sample_paths): \n",
    "#     if len(get_features_image(sample_path)) > 0:\n",
    "#         catch_all_dfs.append(get_features_image(sample_path))"
   ]
  },
  {
   "cell_type": "code",
   "execution_count": null,
   "id": "ba860d75",
   "metadata": {},
   "outputs": [],
   "source": [
    "catch_all_dfs_1 = [item for item in catch_all_dfs if len(item) > 0]"
   ]
  },
  {
   "cell_type": "code",
   "execution_count": null,
   "id": "f0722829",
   "metadata": {},
   "outputs": [],
   "source": [
    "catch_all_dfs_1 = pd.concat(catch_all_dfs_1)"
   ]
  },
  {
   "cell_type": "code",
   "execution_count": null,
   "id": "41f20136",
   "metadata": {},
   "outputs": [],
   "source": [
    "current_dir"
   ]
  },
  {
   "cell_type": "code",
   "execution_count": null,
   "id": "3a5da7d4",
   "metadata": {},
   "outputs": [],
   "source": [
    "out_path =  os.path.join(current_dir, \"../\", \"Case_Study_and_Misc\")"
   ]
  },
  {
   "cell_type": "code",
   "execution_count": null,
   "id": "6d2037df",
   "metadata": {},
   "outputs": [],
   "source": [
    "catch_all_dfs_1.to_csv(os.path.join(out_path, \"all.csv\"), index = False)"
   ]
  },
  {
   "cell_type": "code",
   "execution_count": null,
   "id": "d8af6369",
   "metadata": {},
   "outputs": [],
   "source": [
    "catch_all_dfs_1.isnull().sum()"
   ]
  },
  {
   "cell_type": "code",
   "execution_count": null,
   "id": "6b35ff41",
   "metadata": {},
   "outputs": [],
   "source": [
    "from sklearn.model_selection import train_test_split"
   ]
  },
  {
   "cell_type": "code",
   "execution_count": null,
   "id": "ce68a6b4",
   "metadata": {},
   "outputs": [],
   "source": [
    "top_k = catch_all_dfs_1[\"flavor\"].value_counts()[:20].index"
   ]
  },
  {
   "cell_type": "code",
   "execution_count": null,
   "id": "0466c2e6",
   "metadata": {},
   "outputs": [],
   "source": [
    "catch_all_dfs_1 = catch_all_dfs_1[catch_all_dfs_1[\"flavor\"].isin(top_k)]"
   ]
  },
  {
   "cell_type": "code",
   "execution_count": null,
   "id": "9aa36a00",
   "metadata": {},
   "outputs": [],
   "source": [
    "x_train, x_test, y_train, y_test = train_test_split(catch_all_dfs_1.iloc[:,:-1], catch_all_dfs_1.iloc[:,-1], \n",
    "                                    test_size = 0.3, stratify = catch_all_dfs_1.iloc[:,-1])"
   ]
  },
  {
   "cell_type": "code",
   "execution_count": null,
   "id": "1f7cd97d",
   "metadata": {},
   "outputs": [],
   "source": [
    "count_train = pd.DataFrame(y_train).value_counts().reset_index()\n",
    "count_train.columns = [\"flavor\", \"counts\"]"
   ]
  },
  {
   "cell_type": "code",
   "execution_count": null,
   "id": "a36ee2d4",
   "metadata": {},
   "outputs": [],
   "source": [
    "count_train"
   ]
  },
  {
   "cell_type": "code",
   "execution_count": null,
   "id": "52a73249",
   "metadata": {},
   "outputs": [],
   "source": [
    "plt.rcParams[\"font.weight\"] = \"bold\"\n",
    "plt.figure(figsize = (10,5))\n",
    "sns.barplot(data = count_train, x = \"flavor\", y = \"counts\")\n",
    "plt.xticks(rotation = 90)\n",
    "plt.xticks(fontsize=14)\n",
    "plt.yticks(fontsize=14)\n",
    "plt.xlabel(\"Flavor\", weight = \"bold\", fontsize = 20)\n",
    "plt.ylabel(\"Frequency\", weight = \"bold\", fontsize = 20)\n",
    "# plt.legend(prop={'size': 15})\n",
    "plt.show()"
   ]
  },
  {
   "cell_type": "code",
   "execution_count": null,
   "id": "90ffd674",
   "metadata": {},
   "outputs": [],
   "source": [
    "from sklearn.model_selection import GridSearchCV\n",
    "\n",
    "from sklearn.ensemble import RandomForestClassifier\n"
   ]
  },
  {
   "cell_type": "code",
   "execution_count": null,
   "id": "1c529945",
   "metadata": {},
   "outputs": [],
   "source": [
    "rf = RandomForestClassifier(n_jobs=6)\n",
    "\n",
    "parameters = {'n_estimators':[100]}"
   ]
  },
  {
   "cell_type": "code",
   "execution_count": null,
   "id": "b308ced2",
   "metadata": {},
   "outputs": [],
   "source": [
    "gs = GridSearchCV(estimator=rf, cv=5, n_jobs=6, scoring=\"accuracy\", param_grid = parameters, verbose = 5)"
   ]
  },
  {
   "cell_type": "code",
   "execution_count": null,
   "id": "f4c098eb",
   "metadata": {},
   "outputs": [],
   "source": [
    "gs.fit(x_train, y_train)\n",
    "\n",
    "gs.best_score_"
   ]
  },
  {
   "cell_type": "code",
   "execution_count": null,
   "id": "be520598",
   "metadata": {},
   "outputs": [],
   "source": [
    "gs.best_estimator_"
   ]
  },
  {
   "cell_type": "code",
   "execution_count": null,
   "id": "5e8e2772",
   "metadata": {},
   "outputs": [],
   "source": [
    "y_test_pred = gs.predict(x_test)"
   ]
  },
  {
   "cell_type": "code",
   "execution_count": null,
   "id": "108d1285",
   "metadata": {},
   "outputs": [],
   "source": [
    "np.mean(y_test_pred == y_test)"
   ]
  },
  {
   "cell_type": "code",
   "execution_count": null,
   "id": "226bf0c5",
   "metadata": {},
   "outputs": [],
   "source": [
    "from sklearn.metrics import confusion_matrix"
   ]
  },
  {
   "cell_type": "code",
   "execution_count": null,
   "id": "9e0af81b",
   "metadata": {},
   "outputs": [],
   "source": [
    "cf = confusion_matrix(y_test, y_test_pred, normalize = \"true\", labels = top_k)"
   ]
  },
  {
   "cell_type": "code",
   "execution_count": null,
   "id": "d9646aac",
   "metadata": {},
   "outputs": [],
   "source": [
    "df_cf = pd.DataFrame(cf, columns=top_k, index = top_k)"
   ]
  },
  {
   "cell_type": "code",
   "execution_count": null,
   "id": "1d34a42e",
   "metadata": {},
   "outputs": [],
   "source": [
    "plt.rcParams[\"font.weight\"] = \"bold\"\n",
    "plt.figure(figsize = (10,5))\n",
    "sns.barplot(data = count_train, x = \"flavor\", y = \"counts\")\n",
    "plt.xticks(rotation = 90)\n",
    "plt.xticks(fontsize=14)\n",
    "plt.yticks(fontsize=14)\n",
    "plt.xlabel(\"Flavor\", weight = \"bold\", fontsize = 20)\n",
    "plt.ylabel(\"Frequency\", weight = \"bold\", fontsize = 20)\n",
    "# plt.legend(prop={'size': 15})\n",
    "plt.show()"
   ]
  },
  {
   "cell_type": "code",
   "execution_count": null,
   "id": "1a07635f",
   "metadata": {},
   "outputs": [],
   "source": [
    "plt.rcParams[\"font.weight\"] = \"bold\"\n",
    "plt.figure(figsize = (10,10))\n",
    "sns.heatmap(df_cf, cmap = \"RdBu_r\")\n",
    "plt.xlabel(\"Predicted Flavor\", weight = \"bold\", fontsize = 20)\n",
    "plt.ylabel(\"True Flavor\", weight = \"bold\", fontsize = 20)\n",
    "plt.show()"
   ]
  },
  {
   "cell_type": "code",
   "execution_count": null,
   "id": "0dd15469",
   "metadata": {},
   "outputs": [],
   "source": [
    "rf = gs.best_estimator_"
   ]
  },
  {
   "cell_type": "code",
   "execution_count": null,
   "id": "4aa5a55d",
   "metadata": {},
   "outputs": [],
   "source": [
    "rf.fit(x_train, y_train)"
   ]
  },
  {
   "cell_type": "code",
   "execution_count": null,
   "id": "dd18c9da",
   "metadata": {},
   "outputs": [],
   "source": [
    "rf.feature_importances_"
   ]
  },
  {
   "cell_type": "code",
   "execution_count": null,
   "id": "c8868057",
   "metadata": {},
   "outputs": [],
   "source": [
    "rf.feature_names_in_"
   ]
  },
  {
   "cell_type": "code",
   "execution_count": null,
   "id": "bdc81aca",
   "metadata": {},
   "outputs": [],
   "source": [
    "feat_score = zip(rf.feature_names_in_, rf.feature_importances_)"
   ]
  },
  {
   "cell_type": "code",
   "execution_count": null,
   "id": "615f4132",
   "metadata": {},
   "outputs": [],
   "source": [
    "feat_score_df = pd.DataFrame(list(feat_score))"
   ]
  },
  {
   "cell_type": "code",
   "execution_count": null,
   "id": "b5a2acae",
   "metadata": {},
   "outputs": [],
   "source": [
    "feat_score_df.columns = [\"feature_name\", \"importance_score\"]"
   ]
  },
  {
   "cell_type": "code",
   "execution_count": null,
   "id": "b0a10009",
   "metadata": {},
   "outputs": [],
   "source": [
    "imp_df = feat_score_df.sort_values(\"importance_score\", ascending = False).reset_index(drop = True)"
   ]
  },
  {
   "cell_type": "code",
   "execution_count": null,
   "id": "742c512d",
   "metadata": {},
   "outputs": [],
   "source": [
    "plt.rcParams[\"font.weight\"] = \"bold\"\n",
    "plt.figure(figsize = (10,5))\n",
    "sns.barplot(data = imp_df, x = \"feature_name\", y = \"importance_score\")\n",
    "plt.xticks(rotation = 90)\n",
    "plt.xticks(fontsize=14)\n",
    "plt.yticks(fontsize=14)\n",
    "plt.xlabel(\"Feature Name\", weight = \"bold\", fontsize = 20)\n",
    "plt.ylabel(\"Importance Score\", weight = \"bold\", fontsize = 20)\n",
    "plt.show()"
   ]
  }
 ],
 "metadata": {
  "kernelspec": {
   "display_name": "Python 3 (ipykernel)",
   "language": "python",
   "name": "python3"
  },
  "language_info": {
   "codemirror_mode": {
    "name": "ipython",
    "version": 3
   },
   "file_extension": ".py",
   "mimetype": "text/x-python",
   "name": "python",
   "nbconvert_exporter": "python",
   "pygments_lexer": "ipython3",
   "version": "3.10.6"
  }
 },
 "nbformat": 4,
 "nbformat_minor": 5
}
